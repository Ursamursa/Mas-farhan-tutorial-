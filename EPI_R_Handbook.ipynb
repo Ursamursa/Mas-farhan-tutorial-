{
 "cells": [
  {
   "cell_type": "markdown",
   "id": "935a7f92",
   "metadata": {},
   "source": [
    "# The Epidemiologist R Handbook"
   ]
  },
  {
   "cell_type": "markdown",
   "id": "f3397ab0",
   "metadata": {},
   "source": [
    "### This handbook focus on tidyverse R-package\n",
    "Variables : value measures the same underlying attribute (age group, outcome, date of onset)\n",
    "Observations contain all values meausred on the same unit (person, site, lab sample)\n",
    "in tisy datasets each column is a variable, each row is an observationm and each cell is a single value "
   ]
  },
  {
   "cell_type": "code",
   "execution_count": 9,
   "id": "cc686f43",
   "metadata": {},
   "outputs": [
    {
     "name": "stderr",
     "output_type": "stream",
     "text": [
      "Skipping install of 'epirhandbook' from a github remote, the SHA1 (d777eb75) has not changed since last install.\n",
      "  Use `force = TRUE` to force installation\n",
      "\n",
      "The following packages were installed:\n",
      "epirhandbook\n"
     ]
    }
   ],
   "source": [
    "# install the latest version of the Epi R Handbook package\n",
    "pacman::p_install_gh(\"appliedepi/epirhandbook\")"
   ]
  },
  {
   "cell_type": "code",
   "execution_count": 12,
   "id": "1e828383",
   "metadata": {},
   "outputs": [],
   "source": [
    "# load the package for use\n",
    "pacman::p_load(epirhandbook)"
   ]
  },
  {
   "cell_type": "code",
   "execution_count": 19,
   "id": "7fb9ccac",
   "metadata": {},
   "outputs": [
    {
     "ename": "ERROR",
     "evalue": "Error: RStudio not running\n",
     "output_type": "error",
     "traceback": [
      "Error: RStudio not running\nTraceback:\n",
      "1. download_book()",
      "2. paste0(save_loc, \"/Epi_R_Handbook_offline.html\")",
      "3. rstudioapi::selectDirectory()",
      "4. callFun(\"selectDirectory\", caption, label, path)",
      "5. verifyAvailable()",
      "6. stop(\"RStudio not running\", call. = FALSE)"
     ]
    }
   ],
   "source": [
    "# download the offline handbook to your computer\n",
    "download_book()"
   ]
  },
  {
   "cell_type": "code",
   "execution_count": 18,
   "id": "87152193",
   "metadata": {},
   "outputs": [
    {
     "name": "stderr",
     "output_type": "stream",
     "text": [
      "Skipping install of 'epirhandbook' from a github remote, the SHA1 (d777eb75) has not changed since last install.\n",
      "  Use `force = TRUE` to force installation\n",
      "\n",
      "The following packages were installed:\n",
      "epirhandbook\n"
     ]
    }
   ],
   "source": [
    "# install the latest version of the Epi R Handbook package\n",
    "pacman::p_install_gh(\"appliedepi/epirhandbook\")"
   ]
  },
  {
   "cell_type": "code",
   "execution_count": 15,
   "id": "b80e39e0",
   "metadata": {},
   "outputs": [],
   "source": [
    "# load the package for use\n",
    "pacman::p_load(epirhandbook)"
   ]
  },
  {
   "cell_type": "code",
   "execution_count": 16,
   "id": "38f1d96e",
   "metadata": {},
   "outputs": [
    {
     "ename": "ERROR",
     "evalue": "Error: RStudio not running\n",
     "output_type": "error",
     "traceback": [
      "Error: RStudio not running\nTraceback:\n",
      "1. get_data(\"all\")",
      "2. normalizePath(path)",
      "3. path.expand(path)",
      "4. rstudioapi::selectDirectory()",
      "5. callFun(\"selectDirectory\", caption, label, path)",
      "6. verifyAvailable()",
      "7. stop(\"RStudio not running\", call. = FALSE)"
     ]
    }
   ],
   "source": [
    "# download all the example data into a folder on your computer\n",
    "get_data(\"all\")\n",
    "\n",
    "# download only the linelist example data into a folder on your computer\n",
    "get_data(file = \"linelist_cleaned.rds\")"
   ]
  },
  {
   "cell_type": "code",
   "execution_count": null,
   "id": "1ccc4e64",
   "metadata": {},
   "outputs": [],
   "source": []
  }
 ],
 "metadata": {
  "kernelspec": {
   "display_name": "R",
   "language": "R",
   "name": "ir"
  },
  "language_info": {
   "codemirror_mode": "r",
   "file_extension": ".r",
   "mimetype": "text/x-r-source",
   "name": "R",
   "pygments_lexer": "r",
   "version": "3.6.1"
  }
 },
 "nbformat": 4,
 "nbformat_minor": 5
}
